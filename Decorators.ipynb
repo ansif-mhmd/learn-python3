{
  "nbformat": 4,
  "nbformat_minor": 0,
  "metadata": {
    "colab": {
      "name": "Decorators.ipynb",
      "provenance": [],
      "authorship_tag": "ABX9TyPRQf5s7ICNNGteRDquog73",
      "include_colab_link": true
    },
    "kernelspec": {
      "name": "python3",
      "display_name": "Python 3"
    },
    "language_info": {
      "name": "python"
    }
  },
  "cells": [
    {
      "cell_type": "markdown",
      "metadata": {
        "id": "view-in-github",
        "colab_type": "text"
      },
      "source": [
        "<a href=\"https://colab.research.google.com/github/ansif-mhmd/learn-python3/blob/master/Decorators.ipynb\" target=\"_parent\"><img src=\"https://colab.research.google.com/assets/colab-badge.svg\" alt=\"Open In Colab\"/></a>"
      ]
    },
    {
      "cell_type": "code",
      "execution_count": null,
      "metadata": {
        "id": "ODC4C2nRlBDu"
      },
      "outputs": [],
      "source": [
        ""
      ]
    },
    {
      "cell_type": "markdown",
      "source": [
        "it allows programmers to modify the behaviour of function or class. Decorators allow us to wrap another function in order to extend the behaviour of the wrapped function, without permanently modifying it.**bold text**\n",
        "https://www.geeksforgeeks.org/decorators-in-python/"
      ],
      "metadata": {
        "id": "24aWhFwilHG8"
      }
    },
    {
      "cell_type": "code",
      "source": [
        "\n",
        "# Python program to illustrate functions\n",
        "# Functions can return another function\n",
        " \n",
        "def create_adder(x):\n",
        "    def adder(y):\n",
        "        return x+y\n",
        " \n",
        "    return adder\n",
        " \n",
        "add_15 = create_adder(15)\n",
        " \n",
        "print(add_15(10))\n"
      ],
      "metadata": {
        "colab": {
          "base_uri": "https://localhost:8080/"
        },
        "id": "GjE4KhmblSMi",
        "outputId": "81e0a67d-9205-4c90-9e56-47b42ab789f7"
      },
      "execution_count": 1,
      "outputs": [
        {
          "output_type": "stream",
          "name": "stdout",
          "text": [
            "25\n"
          ]
        }
      ]
    },
    {
      "cell_type": "code",
      "source": [
        "# defining a decorator\n",
        "def hello_decorator(func):\n",
        " \n",
        "    # inner1 is a Wrapper function in\n",
        "    # which the argument is called\n",
        "     \n",
        "    # inner function can access the outer local\n",
        "    # functions like in this case \"func\"\n",
        "    def inner1():\n",
        "        print(\"Hello, this is before function execution\")\n",
        " \n",
        "        # calling the actual function now\n",
        "        # inside the wrapper function.\n",
        "        func()\n",
        " \n",
        "        print(\"This is after function execution\")\n",
        "         \n",
        "    return inner1\n",
        " \n",
        " \n",
        "# defining a function, to be called inside wrapper\n",
        "def function_to_be_used():\n",
        "    print(\"This is inside the function !!\")\n",
        " \n",
        " \n",
        "# passing 'function_to_be_used' inside the\n",
        "# decorator to control its behaviour\n",
        "function_to_be_used = hello_decorator(function_to_be_used)\n",
        " "
      ],
      "metadata": {
        "id": "fEDNFxNFvfE3"
      },
      "execution_count": 2,
      "outputs": []
    },
    {
      "cell_type": "code",
      "source": [
        "function_to_be_used()"
      ],
      "metadata": {
        "colab": {
          "base_uri": "https://localhost:8080/"
        },
        "id": "3iT5q-DyvgOJ",
        "outputId": "868fe090-fde0-42c2-d2df-2e1036c25a73"
      },
      "execution_count": 3,
      "outputs": [
        {
          "output_type": "stream",
          "name": "stdout",
          "text": [
            "Hello, this is before function execution\n",
            "This is inside the function !!\n",
            "This is after function execution\n"
          ]
        }
      ]
    },
    {
      "cell_type": "code",
      "source": [
        "import time\n",
        "def get_time(func):\n",
        "  def wrapper(*args,**kwargs):\n",
        "    start=time.time()\n",
        "    result=func(*args,**kwargs)\n",
        "    end=time.time()\n",
        "    print(\"time taken for executing \"+func.__name__+ \" is \"+ str((end-start)*1000))\n",
        "\n",
        "  return wrapper\n",
        "\n",
        "@get_time\n",
        "def squarer(numbers):\n",
        "  result=[]\n",
        "  for i in numbers:\n",
        "    result.append(i**1)\n",
        "  return result"
      ],
      "metadata": {
        "id": "PyyQbzBfvke2"
      },
      "execution_count": 14,
      "outputs": []
    },
    {
      "cell_type": "code",
      "source": [
        ""
      ],
      "metadata": {
        "id": "Ad5u0Feqyo27"
      },
      "execution_count": 14,
      "outputs": []
    },
    {
      "cell_type": "code",
      "source": [
        "squarer(range(1,100000))"
      ],
      "metadata": {
        "colab": {
          "base_uri": "https://localhost:8080/"
        },
        "id": "IS__HyL9wiyS",
        "outputId": "88c65fac-5d8b-49f2-dd07-fa1c10491515"
      },
      "execution_count": 16,
      "outputs": [
        {
          "output_type": "stream",
          "name": "stdout",
          "text": [
            "time taken for executing squarer is 35088.5329246521\n"
          ]
        }
      ]
    },
    {
      "cell_type": "code",
      "source": [
        "def scream(voice):\n",
        "  return str.upper(voice)\n",
        "\n",
        "def wisper(voice):\n",
        "  return str.lower(voice)\n",
        "\n",
        "def express_func(func):\n",
        "  voice=func(\" I am here to express\")\n",
        "  return voice\n"
      ],
      "metadata": {
        "id": "6VCjD0F5wn0U"
      },
      "execution_count": 28,
      "outputs": []
    },
    {
      "cell_type": "code",
      "source": [
        "express_func(scream)"
      ],
      "metadata": {
        "colab": {
          "base_uri": "https://localhost:8080/",
          "height": 35
        },
        "id": "tBnWIQBo0dD3",
        "outputId": "acdceea0-2545-4a36-81ad-69c2c07b6fb6"
      },
      "execution_count": 29,
      "outputs": [
        {
          "output_type": "execute_result",
          "data": {
            "application/vnd.google.colaboratory.intrinsic+json": {
              "type": "string"
            },
            "text/plain": [
              "' I AM HERE TO EXPRESS'"
            ]
          },
          "metadata": {},
          "execution_count": 29
        }
      ]
    },
    {
      "cell_type": "code",
      "source": [
        "express_func(wisper)"
      ],
      "metadata": {
        "colab": {
          "base_uri": "https://localhost:8080/",
          "height": 35
        },
        "id": "g4ABevAT1J-H",
        "outputId": "cfc47696-1aac-43fe-e869-24978133e9d0"
      },
      "execution_count": 30,
      "outputs": [
        {
          "output_type": "execute_result",
          "data": {
            "application/vnd.google.colaboratory.intrinsic+json": {
              "type": "string"
            },
            "text/plain": [
              "' i am here to express'"
            ]
          },
          "metadata": {},
          "execution_count": 30
        }
      ]
    },
    {
      "cell_type": "code",
      "source": [
        ""
      ],
      "metadata": {
        "id": "EgHiApoF10t3"
      },
      "execution_count": null,
      "outputs": []
    }
  ]
}