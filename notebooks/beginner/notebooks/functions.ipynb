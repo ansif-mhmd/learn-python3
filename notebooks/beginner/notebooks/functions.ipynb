{
  "cells": [
    {
      "cell_type": "markdown",
      "metadata": {
        "id": "view-in-github",
        "colab_type": "text"
      },
      "source": [
        "<a href=\"https://colab.research.google.com/github/ansif-mhmd/learn-python3/blob/master/notebooks/beginner/notebooks/functions.ipynb\" target=\"_parent\"><img src=\"https://colab.research.google.com/assets/colab-badge.svg\" alt=\"Open In Colab\"/></a>"
      ]
    },
    {
      "cell_type": "markdown",
      "metadata": {
        "id": "ooxoWMO1JIp1"
      },
      "source": [
        "# Functions"
      ]
    },
    {
      "cell_type": "code",
      "execution_count": 1,
      "metadata": {
        "colab": {
          "base_uri": "https://localhost:8080/"
        },
        "id": "jDKlln3ZJIp-",
        "outputId": "e67ba1e0-e4cc-4ae6-bd25-63ad0be700b4"
      },
      "outputs": [
        {
          "output_type": "stream",
          "name": "stdout",
          "text": [
            "type: <function my_first_function at 0x7f18b3c25560>\n",
            "Hello world!\n"
          ]
        }
      ],
      "source": [
        "def my_first_function():\n",
        "    print('Hello world!')\n",
        "\n",
        "print('type: {}'.format(my_first_function))\n",
        "\n",
        "my_first_function()  # Calling a function"
      ]
    },
    {
      "cell_type": "markdown",
      "metadata": {
        "id": "ui4BhhO8JIqB"
      },
      "source": [
        "### Arguments"
      ]
    },
    {
      "cell_type": "code",
      "execution_count": 2,
      "metadata": {
        "colab": {
          "base_uri": "https://localhost:8080/"
        },
        "id": "rbeYHzNLJIqC",
        "outputId": "e6a89749-cd1a-451b-aa84-abf0a090ac10"
      },
      "outputs": [
        {
          "output_type": "stream",
          "name": "stdout",
          "text": [
            "Hello John Doe and Superman!\n"
          ]
        }
      ],
      "source": [
        "def greet_us(name1, name2):\n",
        "    print('Hello {} and {}!'.format(name1, name2))\n",
        "\n",
        "greet_us('John Doe', 'Superman')"
      ]
    },
    {
      "cell_type": "code",
      "execution_count": 3,
      "metadata": {
        "colab": {
          "base_uri": "https://localhost:8080/"
        },
        "id": "HYCSA1NlJIqD",
        "outputId": "c581caa3-58ed-410e-82f0-17f24e7618a1"
      },
      "outputs": [
        {
          "output_type": "stream",
          "name": "stdout",
          "text": [
            "pretty: mixed case\n"
          ]
        }
      ],
      "source": [
        "# Function with return value\n",
        "def strip_and_lowercase(original):\n",
        "    modified = original.strip().lower()\n",
        "    return modified\n",
        "\n",
        "uggly_string = '  MixED CaSe '\n",
        "pretty = strip_and_lowercase(uggly_string)\n",
        "print('pretty: {}'.format(pretty))"
      ]
    },
    {
      "cell_type": "markdown",
      "metadata": {
        "id": "5nIUP4E2JIqE"
      },
      "source": [
        "### Keyword arguments"
      ]
    },
    {
      "cell_type": "code",
      "execution_count": 4,
      "metadata": {
        "colab": {
          "base_uri": "https://localhost:8080/"
        },
        "id": "4-6OFHpIJIqF",
        "outputId": "f73bc1ff-00a3-4c91-c810-8a99fbbe00c5"
      },
      "outputs": [
        {
          "output_type": "stream",
          "name": "stdout",
          "text": [
            "4\n",
            "4\n",
            "4\n",
            "4\n"
          ]
        }
      ],
      "source": [
        "def my_fancy_calculation(first, second, third):\n",
        "    return first + second - third \n",
        "\n",
        "print(my_fancy_calculation(3, 2, 1))\n",
        "\n",
        "print(my_fancy_calculation(first=3, second=2, third=1))\n",
        "\n",
        "# With keyword arguments you can mix the order\n",
        "print(my_fancy_calculation(third=1, first=3, second=2))\n",
        "\n",
        "# You can mix arguments and keyword arguments but you have to start with arguments\n",
        "print(my_fancy_calculation(3, third=1, second=2))  "
      ]
    },
    {
      "cell_type": "markdown",
      "metadata": {
        "id": "Hm-2n2T8JIqH"
      },
      "source": [
        "### Default arguments"
      ]
    },
    {
      "cell_type": "code",
      "execution_count": 5,
      "metadata": {
        "scrolled": true,
        "colab": {
          "base_uri": "https://localhost:8080/"
        },
        "id": "WDqPQ8t_JIqK",
        "outputId": "f5bf8882-0aa5-4149-e467-ac71ad13c49d"
      },
      "outputs": [
        {
          "output_type": "stream",
          "name": "stdout",
          "text": [
            "{'name': 'John Doe', 'age': 82, 'salary': 300}\n",
            "{'name': 'Lisa Doe', 'age': 22, 'salary': 10000, 'job': 'hacker'}\n"
          ]
        }
      ],
      "source": [
        "def create_person_info(name, age, job=None, salary=300):\n",
        "    info = {'name': name, 'age': age, 'salary': salary}\n",
        "    \n",
        "    # Add 'job' key only if it's provided as parameter\n",
        "    if job:  \n",
        "        info.update(dict(job=job))\n",
        "        \n",
        "    return info\n",
        "\n",
        "person1 = create_person_info('John Doe', 82)  # use default values for job and salary\n",
        "person2 = create_person_info('Lisa Doe', 22, 'hacker', 10000)\n",
        "print(person1)\n",
        "print(person2)"
      ]
    },
    {
      "cell_type": "markdown",
      "metadata": {
        "id": "RDbnzazaJIqM"
      },
      "source": [
        "**Don't use mutable objects as default arguments!**\n",
        "\n",
        "***Do not use mutable default arguments in Python, unless you have a REALLY good reason to do so. Why? Because it can lead to all sorts of nasty and horrible bugs, give you headaches and waste everyone's time. Instead, default to None and assign the mutable value inside the function.***\n",
        "\n",
        "will not throw any error but will give wrong outputs\n"
      ]
    },
    {
      "cell_type": "code",
      "execution_count": 6,
      "metadata": {
        "colab": {
          "base_uri": "https://localhost:8080/"
        },
        "id": "QYE6PkhOJIqN",
        "outputId": "41418f3c-aaf8-4b71-d705-e8b12eafe0b9"
      },
      "outputs": [
        {
          "output_type": "stream",
          "name": "stdout",
          "text": [
            "[100]\n",
            "[100, 105]\n",
            "[100, 105]\n",
            "[]\n",
            "[100, 105]\n"
          ]
        }
      ],
      "source": [
        "def append_if_multiple_of_five(number, magical_list=[]):\n",
        "    if number % 5 == 0:\n",
        "        magical_list.append(number)\n",
        "    return magical_list\n",
        "\n",
        "print(append_if_multiple_of_five(100))\n",
        "print(append_if_multiple_of_five(105))\n",
        "print(append_if_multiple_of_five(123))\n",
        "print(append_if_multiple_of_five(123, []))\n",
        "print(append_if_multiple_of_five(123))"
      ]
    },
    {
      "cell_type": "markdown",
      "metadata": {
        "id": "j-lWCovKJIqO"
      },
      "source": [
        "Here's how you can achieve desired behavior:"
      ]
    },
    {
      "cell_type": "code",
      "execution_count": 7,
      "metadata": {
        "colab": {
          "base_uri": "https://localhost:8080/"
        },
        "id": "90JJhoe9JIqP",
        "outputId": "8ebcbd92-463c-404e-c4cd-57135085c870"
      },
      "outputs": [
        {
          "output_type": "stream",
          "name": "stdout",
          "text": [
            "[100]\n",
            "[105]\n",
            "[]\n",
            "[]\n",
            "[]\n"
          ]
        }
      ],
      "source": [
        "def append_if_multiple_of_five(number, magical_list=None):\n",
        "    if not magical_list:\n",
        "        magical_list = []\n",
        "    if number % 5 == 0:\n",
        "        magical_list.append(number)\n",
        "    return magical_list\n",
        "\n",
        "print(append_if_multiple_of_five(100))\n",
        "print(append_if_multiple_of_five(105))\n",
        "print(append_if_multiple_of_five(123))\n",
        "print(append_if_multiple_of_five(123, []))\n",
        "print(append_if_multiple_of_five(123))"
      ]
    },
    {
      "cell_type": "markdown",
      "metadata": {
        "id": "wO05kQbeJIqQ"
      },
      "source": [
        "### Docstrings\n",
        "Strings for documenting your functions, methods, modules and variables."
      ]
    },
    {
      "cell_type": "code",
      "execution_count": 8,
      "metadata": {
        "colab": {
          "base_uri": "https://localhost:8080/"
        },
        "id": "092T4tzhJIqR",
        "outputId": "315cfbea-2ba0-4b53-b88d-eb99686c447e"
      },
      "outputs": [
        {
          "output_type": "stream",
          "name": "stdout",
          "text": [
            "Help on function print_sum in module __main__:\n",
            "\n",
            "print_sum(val1, val2)\n",
            "    Function which prints the sum of given arguments.\n",
            "\n",
            "None\n"
          ]
        }
      ],
      "source": [
        "def print_sum(val1, val2):\n",
        "    \"\"\"Function which prints the sum of given arguments.\"\"\"\n",
        "    print('sum: {}'.format(val1 + val2))\n",
        "\n",
        "print(help(print_sum))"
      ]
    },
    {
      "cell_type": "code",
      "execution_count": 9,
      "metadata": {
        "colab": {
          "base_uri": "https://localhost:8080/"
        },
        "id": "Sb1-80quJIqR",
        "outputId": "0529167b-7c89-44e5-d202-ffce98c6605d"
      },
      "outputs": [
        {
          "output_type": "stream",
          "name": "stdout",
          "text": [
            "Help on function calculate_sum in module __main__:\n",
            "\n",
            "calculate_sum(val1, val2)\n",
            "    This is a longer docstring defining also the args and the return value. \n",
            "    \n",
            "    Args:\n",
            "        val1: The first parameter.\n",
            "        val2: The second parameter.\n",
            "    \n",
            "    Returns:\n",
            "        The sum of val1 and val2.\n",
            "\n",
            "None\n"
          ]
        }
      ],
      "source": [
        "def calculate_sum(val1, val2):\n",
        "    \"\"\"This is a longer docstring defining also the args and the return value. \n",
        "\n",
        "    Args:\n",
        "        val1: The first parameter.\n",
        "        val2: The second parameter.\n",
        "\n",
        "    Returns:\n",
        "        The sum of val1 and val2.\n",
        "        \n",
        "    \"\"\"\n",
        "    return val1 + val2\n",
        "\n",
        "print(help(calculate_sum))"
      ]
    },
    {
      "cell_type": "markdown",
      "metadata": {
        "id": "HImIEzmjJIqT"
      },
      "source": [
        "### [`pass`](https://docs.python.org/3/reference/simple_stmts.html#the-pass-statement) statement\n",
        "`pass` is a statement which does nothing when it's executed. It can be used e.g. a as placeholder to make the code syntatically correct while sketching the functions and/or classes of your application. For example, the following is valid Python. "
      ]
    },
    {
      "cell_type": "code",
      "execution_count": 10,
      "metadata": {
        "id": "deZeh__OJIqU"
      },
      "outputs": [],
      "source": [
        "def my_function(some_argument):\n",
        "    pass\n",
        "\n",
        "def my_other_function():\n",
        "    pass"
      ]
    },
    {
      "cell_type": "code",
      "source": [
        ""
      ],
      "metadata": {
        "id": "Rx4apBiyOouA"
      },
      "execution_count": null,
      "outputs": []
    }
  ],
  "metadata": {
    "kernelspec": {
      "display_name": "Python 3",
      "language": "python",
      "name": "python3"
    },
    "language_info": {
      "codemirror_mode": {
        "name": "ipython",
        "version": 3
      },
      "file_extension": ".py",
      "mimetype": "text/x-python",
      "name": "python",
      "nbconvert_exporter": "python",
      "pygments_lexer": "ipython3",
      "version": "3.5.4"
    },
    "colab": {
      "name": "functions.ipynb",
      "provenance": [],
      "include_colab_link": true
    }
  },
  "nbformat": 4,
  "nbformat_minor": 0
}