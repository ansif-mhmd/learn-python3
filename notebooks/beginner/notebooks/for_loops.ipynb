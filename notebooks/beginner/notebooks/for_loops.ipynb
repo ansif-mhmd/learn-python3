{
  "cells": [
    {
      "cell_type": "markdown",
      "metadata": {
        "id": "view-in-github",
        "colab_type": "text"
      },
      "source": [
        "<a href=\"https://colab.research.google.com/github/ansif-mhmd/learn-python3/blob/master/notebooks/beginner/notebooks/for_loops.ipynb\" target=\"_parent\"><img src=\"https://colab.research.google.com/assets/colab-badge.svg\" alt=\"Open In Colab\"/></a>"
      ]
    },
    {
      "cell_type": "markdown",
      "metadata": {
        "id": "Pl9sS5bdJHkf"
      },
      "source": [
        "# [`for` loops](https://docs.python.org/3/tutorial/controlflow.html#for-statements)"
      ]
    },
    {
      "cell_type": "markdown",
      "metadata": {
        "id": "DsgzuVswJHkp"
      },
      "source": [
        "## Looping lists"
      ]
    },
    {
      "cell_type": "code",
      "execution_count": 1,
      "metadata": {
        "id": "Lf-k0-vCJHkr",
        "outputId": "a4a4a6e1-d18d-4c2a-f6cf-65c886888544",
        "colab": {
          "base_uri": "https://localhost:8080/"
        }
      },
      "outputs": [
        {
          "output_type": "stream",
          "name": "stdout",
          "text": [
            "1\n",
            "2\n",
            "3\n",
            "4\n",
            "Python\n",
            "is\n",
            "neat\n"
          ]
        }
      ],
      "source": [
        "my_list = [1, 2, 3, 4, 'Python', 'is', 'neat']\n",
        "for item in my_list:\n",
        "    print(item)"
      ]
    },
    {
      "cell_type": "markdown",
      "metadata": {
        "id": "YBKSAFvHJHku"
      },
      "source": [
        "### `break`\n",
        "Stop the execution of the loop."
      ]
    },
    {
      "cell_type": "code",
      "execution_count": 2,
      "metadata": {
        "id": "lnlocbXmJHkv",
        "outputId": "b4d9eeda-2a1e-4eff-bfe6-700dccaf6471",
        "colab": {
          "base_uri": "https://localhost:8080/"
        }
      },
      "outputs": [
        {
          "output_type": "stream",
          "name": "stdout",
          "text": [
            "1\n",
            "2\n",
            "3\n",
            "4\n"
          ]
        }
      ],
      "source": [
        "for item in my_list:\n",
        "    if item == 'Python':\n",
        "        break\n",
        "    print(item)"
      ]
    },
    {
      "cell_type": "markdown",
      "metadata": {
        "id": "nebLktZUJHkw"
      },
      "source": [
        "### `continue`\n",
        "Continue to the next item without executing the lines occuring after `continue` inside the loop."
      ]
    },
    {
      "cell_type": "code",
      "execution_count": 3,
      "metadata": {
        "id": "DQRaJwQ2JHky",
        "outputId": "71ca3e9f-2b9d-4d52-fa1d-0c37f7b3fa7e",
        "colab": {
          "base_uri": "https://localhost:8080/"
        }
      },
      "outputs": [
        {
          "output_type": "stream",
          "name": "stdout",
          "text": [
            "2\n",
            "3\n",
            "4\n",
            "Python\n",
            "is\n",
            "neat\n"
          ]
        }
      ],
      "source": [
        "for item in my_list:\n",
        "    if item == 1:\n",
        "        continue\n",
        "    print(item)"
      ]
    },
    {
      "cell_type": "markdown",
      "metadata": {
        "id": "4zMx3-LCJHk0"
      },
      "source": [
        "### `enumerate()`\n",
        "In case you need to also know the index:"
      ]
    },
    {
      "cell_type": "code",
      "execution_count": 4,
      "metadata": {
        "id": "ITTsbFSxJHk1",
        "outputId": "cf368696-f847-42b3-ecb2-46c429c53b00",
        "colab": {
          "base_uri": "https://localhost:8080/"
        }
      },
      "outputs": [
        {
          "output_type": "stream",
          "name": "stdout",
          "text": [
            "idx: 0, value: 1\n",
            "idx: 1, value: 2\n",
            "idx: 2, value: 3\n",
            "idx: 3, value: 4\n",
            "idx: 4, value: Python\n",
            "idx: 5, value: is\n",
            "idx: 6, value: neat\n"
          ]
        }
      ],
      "source": [
        "for idx, val in enumerate(my_list):\n",
        "    print('idx: {}, value: {}'.format(idx, val))"
      ]
    },
    {
      "cell_type": "markdown",
      "metadata": {
        "id": "w-IxHOfJJHk2"
      },
      "source": [
        "## Looping dictionaries"
      ]
    },
    {
      "cell_type": "code",
      "execution_count": 6,
      "metadata": {
        "id": "kCHu0uIdJHk3",
        "outputId": "375b15d6-181b-4e4f-b4eb-865b5da283e6",
        "colab": {
          "base_uri": "https://localhost:8080/"
        }
      },
      "outputs": [
        {
          "output_type": "stream",
          "name": "stdout",
          "text": [
            "hacker\n",
            "age\n",
            "name\n"
          ]
        }
      ],
      "source": [
        "my_dict = {'hacker': True, 'age': 72, 'name': 'John Doe'}\n",
        "for key in my_dict:\n",
        "    print(key)"
      ]
    },
    {
      "cell_type": "code",
      "execution_count": 7,
      "metadata": {
        "id": "D4s9YWo6JHk4",
        "outputId": "40e2d8ce-366f-4968-a894-bd4a7775ac7f",
        "colab": {
          "base_uri": "https://localhost:8080/"
        }
      },
      "outputs": [
        {
          "output_type": "stream",
          "name": "stdout",
          "text": [
            "hacker=True\n",
            "age=72\n",
            "name=John Doe\n"
          ]
        }
      ],
      "source": [
        "for key, val in my_dict.items():\n",
        "    print('{}={}'.format(key, val))"
      ]
    },
    {
      "cell_type": "code",
      "source": [
        "for key in my_dict.values():\n",
        "    print(key)"
      ],
      "metadata": {
        "id": "40NlfntSPTbA",
        "outputId": "9c06b8ec-cc7f-47ba-a000-3eccab18f067",
        "colab": {
          "base_uri": "https://localhost:8080/"
        }
      },
      "execution_count": 12,
      "outputs": [
        {
          "output_type": "stream",
          "name": "stdout",
          "text": [
            "True\n",
            "72\n",
            "John Doe\n"
          ]
        }
      ]
    },
    {
      "cell_type": "code",
      "source": [
        "for key in my_dict.keys():\n",
        "    print(key)"
      ],
      "metadata": {
        "id": "L9tuNzTcPd67",
        "outputId": "4f7ca8d2-21c2-4c25-f508-2534f1a41e0d",
        "colab": {
          "base_uri": "https://localhost:8080/"
        }
      },
      "execution_count": 13,
      "outputs": [
        {
          "output_type": "stream",
          "name": "stdout",
          "text": [
            "hacker\n",
            "age\n",
            "name\n"
          ]
        }
      ]
    },
    {
      "cell_type": "markdown",
      "metadata": {
        "id": "e0SHrCfKJHk5"
      },
      "source": [
        "## `range()`"
      ]
    },
    {
      "cell_type": "code",
      "execution_count": 8,
      "metadata": {
        "id": "o2BXwt18JHk5",
        "outputId": "3ea3911d-79fc-4a84-dcb4-e608afc5e9f1",
        "colab": {
          "base_uri": "https://localhost:8080/"
        }
      },
      "outputs": [
        {
          "output_type": "stream",
          "name": "stdout",
          "text": [
            "0\n",
            "1\n",
            "2\n",
            "3\n",
            "4\n"
          ]
        }
      ],
      "source": [
        "for number in range(5):\n",
        "    print(number)"
      ]
    },
    {
      "cell_type": "code",
      "execution_count": 9,
      "metadata": {
        "id": "jbMkK-ZoJHk6",
        "outputId": "d304fe4f-6c96-487c-9acf-dc3fe66c6720",
        "colab": {
          "base_uri": "https://localhost:8080/"
        }
      },
      "outputs": [
        {
          "output_type": "stream",
          "name": "stdout",
          "text": [
            "2\n",
            "3\n",
            "4\n"
          ]
        }
      ],
      "source": [
        "for number in range(2, 5):\n",
        "    print(number)"
      ]
    },
    {
      "cell_type": "code",
      "execution_count": 10,
      "metadata": {
        "id": "RNXk5IDQJHk7",
        "outputId": "9bfd0fe6-aea6-4f96-c597-4f6ef6523652",
        "colab": {
          "base_uri": "https://localhost:8080/"
        }
      },
      "outputs": [
        {
          "output_type": "stream",
          "name": "stdout",
          "text": [
            "0\n",
            "2\n",
            "4\n",
            "6\n",
            "8\n"
          ]
        }
      ],
      "source": [
        "for number in range(0, 10, 2):  # last one is step\n",
        "    print(number)"
      ]
    },
    {
      "cell_type": "code",
      "source": [
        ""
      ],
      "metadata": {
        "id": "Wyba02wRPO4u"
      },
      "execution_count": null,
      "outputs": []
    }
  ],
  "metadata": {
    "kernelspec": {
      "display_name": "Python 3",
      "language": "python",
      "name": "python3"
    },
    "language_info": {
      "codemirror_mode": {
        "name": "ipython",
        "version": 3
      },
      "file_extension": ".py",
      "mimetype": "text/x-python",
      "name": "python",
      "nbconvert_exporter": "python",
      "pygments_lexer": "ipython3",
      "version": "3.5.4"
    },
    "colab": {
      "name": "for_loops.ipynb",
      "provenance": [],
      "include_colab_link": true
    }
  },
  "nbformat": 4,
  "nbformat_minor": 0
}